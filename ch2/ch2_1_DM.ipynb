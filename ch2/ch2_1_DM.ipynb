{
 "cells": [
  {
   "cell_type": "code",
   "execution_count": 2,
   "metadata": {},
   "outputs": [
    {
     "data": {
      "text/plain": [
       "27"
      ]
     },
     "execution_count": 2,
     "metadata": {},
     "output_type": "execute_result"
    }
   ],
   "source": [
    "# Basic_Code 1\n",
    "a = 3\n",
    "a * 3\n",
    "a ** 3"
   ]
  },
  {
   "cell_type": "code",
   "execution_count": 3,
   "metadata": {},
   "outputs": [
    {
     "data": {
      "text/plain": [
       "['This', 'is', 'the', 'magic', 'Python', 'world']"
      ]
     },
     "execution_count": 3,
     "metadata": {},
     "output_type": "execute_result"
    }
   ],
   "source": [
    "# Basic_Code 2\n",
    "a = 'This is the magic Python world' \n",
    "a + ' Welcome!' # The output should be 'This is the magic Python world Welcome!' \n",
    "a.split(' ') # Split a with space and get the list: ['This', 'is', 'the', 'magic', 'Python','world']"
   ]
  },
  {
   "cell_type": "code",
   "execution_count": 4,
   "metadata": {},
   "outputs": [
    {
     "name": "stdout",
     "output_type": "stream",
     "text": [
      "[3, 4, 5]\n"
     ]
    }
   ],
   "source": [
    "# Basic_Code 3\n",
    "c = [2, 3, 4]\n",
    "d = []\n",
    "for i in c:\n",
    "    d.append(i + 1)\n",
    "print(d) # The output should be [3, 4, 5]"
   ]
  },
  {
   "cell_type": "code",
   "execution_count": 5,
   "metadata": {},
   "outputs": [
    {
     "name": "stdout",
     "output_type": "stream",
     "text": [
      "[3, 4, 5]\n"
     ]
    }
   ],
   "source": [
    "# Basic_Code 4\n",
    "c = [2, 3, 4]\n",
    "d = [i + 1 for i in c]\n",
    "print(d) # The output should be [3, 4, 5]"
   ]
  },
  {
   "cell_type": "code",
   "execution_count": 6,
   "metadata": {},
   "outputs": [
    {
     "name": "stdout",
     "output_type": "stream",
     "text": [
      "1\n",
      "2\n"
     ]
    }
   ],
   "source": [
    "# Basic_Code 5\n",
    "a = {'January': 1, 'February': 2}\n",
    "m=a['January'] # The value should be 1\n",
    "print(m)\n",
    "n=a['February'] # The value should be 2\n",
    "print(n)"
   ]
  },
  {
   "cell_type": "code",
   "execution_count": 7,
   "metadata": {},
   "outputs": [
    {
     "name": "stdout",
     "output_type": "stream",
     "text": [
      "{'January': 1, 'February': 2}\n",
      "{'January': 1, 'February': 1}\n"
     ]
    }
   ],
   "source": [
    "# Basic_Code 6\n",
    "m=dict([['January', 1], ['February', 2]]) # {'January':1, 'February':2}\n",
    "print(m)\n",
    "n=dict.fromkeys(['January', 'February'], 1) # {'January':1, 'February':1}\n",
    "print(n)"
   ]
  },
  {
   "cell_type": "code",
   "execution_count": 8,
   "metadata": {},
   "outputs": [
    {
     "name": "stdout",
     "output_type": "stream",
     "text": [
      "{1, 2, 3}\n",
      "{1, 2, 3}\n"
     ]
    }
   ],
   "source": [
    "# Basic_Code 7\n",
    "k = {1, 1, 2, 3, 3} # {1, 2, 3}\n",
    "print(k)\n",
    "k = set([1, 1, 2, 3, 3]) # Convert list into set, {1, 2, 3}\n",
    "print(k)"
   ]
  },
  {
   "cell_type": "code",
   "execution_count": 9,
   "metadata": {},
   "outputs": [
    {
     "name": "stdout",
     "output_type": "stream",
     "text": [
      "{1, 2, 3, 4, 5, 6}\n",
      "{1, 2, 3}\n",
      "{4}\n",
      "{4, 5, 6}\n"
     ]
    }
   ],
   "source": [
    "# Basic_Code 8\n",
    "f = {1, 2, 3, 4}\n",
    "g = {1, 2, 3, 5, 6}\n",
    "a = f | g # union {1, 2, 3, 4, 5, 6}\n",
    "print(a)\n",
    "b = f & g # intersection {1, 2, 3}\n",
    "print(b)\n",
    "c = f - g # difference set(in f, not in g) {4}\n",
    "print(c)\n",
    "d = f ^ g # symmetric difference set(in f or g, not in both) {1, 2, 3}\n",
    "print(d)"
   ]
  }
 ],
 "metadata": {
  "kernelspec": {
   "display_name": "DataMining",
   "language": "python",
   "name": "python3"
  },
  "language_info": {
   "codemirror_mode": {
    "name": "ipython",
    "version": 3
   },
   "file_extension": ".py",
   "mimetype": "text/x-python",
   "name": "python",
   "nbconvert_exporter": "python",
   "pygments_lexer": "ipython3",
   "version": "3.12.7"
  }
 },
 "nbformat": 4,
 "nbformat_minor": 2
}
