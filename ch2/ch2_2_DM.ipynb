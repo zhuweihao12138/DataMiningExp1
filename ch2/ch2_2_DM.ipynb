{
 "cells": [
  {
   "cell_type": "code",
   "execution_count": 1,
   "metadata": {},
   "outputs": [
    {
     "name": "stdout",
     "output_type": "stream",
     "text": [
      "a is not 0\n"
     ]
    }
   ],
   "source": [
    "# Basic_Code 9\n",
    "a = 1\n",
    "if a == 0:\n",
    "    print('a is 0') # Indent 2 space\n",
    "else:\n",
    "    print('a is not 0') # Indent 2 space; a is not 0"
   ]
  },
  {
   "cell_type": "code",
   "execution_count": 2,
   "metadata": {},
   "outputs": [
    {
     "name": "stdout",
     "output_type": "stream",
     "text": [
      "5050\n",
      "0\n",
      "1\n",
      "3\n",
      "6\n",
      "10\n",
      "15\n",
      "21\n",
      "28\n",
      "36\n",
      "45\n",
      "55\n",
      "66\n",
      "78\n",
      "91\n",
      "105\n",
      "120\n",
      "136\n",
      "153\n",
      "171\n",
      "190\n",
      "210\n",
      "231\n",
      "253\n",
      "276\n",
      "300\n",
      "325\n",
      "351\n",
      "378\n",
      "406\n",
      "435\n",
      "465\n",
      "496\n",
      "528\n",
      "561\n",
      "595\n",
      "630\n",
      "666\n",
      "703\n",
      "741\n",
      "780\n",
      "820\n",
      "861\n",
      "903\n",
      "946\n",
      "990\n",
      "1035\n",
      "1081\n",
      "1128\n",
      "1176\n",
      "1225\n",
      "1275\n",
      "1326\n",
      "1378\n",
      "1431\n",
      "1485\n",
      "1540\n",
      "1596\n",
      "1653\n",
      "1711\n",
      "1770\n",
      "1830\n",
      "1891\n",
      "1953\n",
      "2016\n",
      "2080\n",
      "2145\n",
      "2211\n",
      "2278\n",
      "2346\n",
      "2415\n",
      "2485\n",
      "2556\n",
      "2628\n",
      "2701\n",
      "2775\n",
      "2850\n",
      "2926\n",
      "3003\n",
      "3081\n",
      "3160\n",
      "3240\n",
      "3321\n",
      "3403\n",
      "3486\n",
      "3570\n",
      "3655\n",
      "3741\n",
      "3828\n",
      "3916\n",
      "4005\n",
      "4095\n",
      "4186\n",
      "4278\n",
      "4371\n",
      "4465\n",
      "4560\n",
      "4656\n",
      "4753\n",
      "4851\n",
      "4950\n",
      "5050\n"
     ]
    }
   ],
   "source": [
    "# Basic_Code 10\n",
    "# for Circulation statement\n",
    "i = 0\n",
    "for j in range(101): # Circulation process is to calculate 1+2+3+...+100\n",
    "    i = i + j\n",
    "print(i) #5050\n",
    "# while Circulation\n",
    "i = 0\n",
    "j = 0\n",
    "while j < 101: # It's also used to calculate 1+2+3+...+100\n",
    "    i = i + j\n",
    "    j = j + 1\n",
    "    print(i) #5050"
   ]
  },
  {
   "cell_type": "code",
   "execution_count": 3,
   "metadata": {},
   "outputs": [
    {
     "name": "stdout",
     "output_type": "stream",
     "text": [
      "1\n",
      "2\n",
      "3\n",
      "4\n"
     ]
    }
   ],
   "source": [
    "# Basic_Code 11\n",
    "for i in range(1, 5, 1):\n",
    "    print(i) #1 2 3 4"
   ]
  },
  {
   "cell_type": "code",
   "execution_count": 4,
   "metadata": {},
   "outputs": [
    {
     "name": "stdout",
     "output_type": "stream",
     "text": [
      "11\n"
     ]
    }
   ],
   "source": [
    "# Basic_Code 12\n",
    "def pea(x):\n",
    "    return x + 1\n",
    "print(pea(10)) # The output is 11"
   ]
  },
  {
   "cell_type": "code",
   "execution_count": 7,
   "metadata": {},
   "outputs": [
    {
     "name": "stdout",
     "output_type": "stream",
     "text": [
      "3 6\n"
     ]
    }
   ],
   "source": [
    "# Basic_Code 13\n",
    "# Return list\n",
    "def peb(x=3, y=5): # Define function and default vlaue of parameters\n",
    "    return [x + 3, y + 3] # The return value is a list\n",
    "\n",
    "# return multiple values\n",
    "def pec(x, y):\n",
    "    return x + 1, y + 1 # double return\n",
    "a, b = pec(2, 5) # a = 3, b = 6\n",
    "print(a,b)"
   ]
  },
  {
   "cell_type": "code",
   "execution_count": 1,
   "metadata": {},
   "outputs": [],
   "source": [
    "# Basic_Code 14\n",
    "c = lambda x: x + 1 # Define function c(x) = x + 1\n",
    "d = lambda x, y: x + y + 6 # Define function d(x,y) = x + y + 6"
   ]
  },
  {
   "cell_type": "code",
   "execution_count": 9,
   "metadata": {},
   "outputs": [
    {
     "name": "stdout",
     "output_type": "stream",
     "text": [
      "[12, 9, 10]\n"
     ]
    }
   ],
   "source": [
    "# Basic_Code 15\n",
    "a = [9, 6, 7]\n",
    "b = [i + 3 for i in a]\n",
    "print(b) # Output is [12, 9, 10]"
   ]
  },
  {
   "cell_type": "code",
   "execution_count": 10,
   "metadata": {},
   "outputs": [
    {
     "name": "stdout",
     "output_type": "stream",
     "text": [
      "[12, 9, 10]\n"
     ]
    }
   ],
   "source": [
    "# Basic_Code 16\n",
    "a = [9, 6, 7]\n",
    "b = map(lambda x: x + 3, a)\n",
    "b = list(b)\n",
    "print(b) # Output is also [12, 9, 10]"
   ]
  },
  {
   "cell_type": "code",
   "execution_count": 11,
   "metadata": {},
   "outputs": [],
   "source": [
    "# Basic_Code 17\n",
    "a = 1\n",
    "for i in range(1, 11 + 1):\n",
    "    a = a * i"
   ]
  },
  {
   "cell_type": "code",
   "execution_count": 12,
   "metadata": {},
   "outputs": [
    {
     "name": "stdout",
     "output_type": "stream",
     "text": [
      "[3, 4, 5]\n"
     ]
    }
   ],
   "source": [
    "# Basic_Code 18\n",
    "a = filter(lambda x: x > 2 and x < 6, range(10))\n",
    "a = list(a)\n",
    "print(a) # output is [3, 4, 5]"
   ]
  },
  {
   "cell_type": "code",
   "execution_count": 13,
   "metadata": {},
   "outputs": [
    {
     "name": "stdout",
     "output_type": "stream",
     "text": [
      "[3, 4, 5]\n"
     ]
    }
   ],
   "source": [
    "# Basic_Code 19\n",
    "a = [i for i in range(10) if i > 2 and i < 6]\n",
    "print(a) # Output is [3, 4, 5]"
   ]
  }
 ],
 "metadata": {
  "kernelspec": {
   "display_name": "DataMining",
   "language": "python",
   "name": "python3"
  },
  "language_info": {
   "codemirror_mode": {
    "name": "ipython",
    "version": 3
   },
   "file_extension": ".py",
   "mimetype": "text/x-python",
   "name": "python",
   "nbconvert_exporter": "python",
   "pygments_lexer": "ipython3",
   "version": "3.12.7"
  }
 },
 "nbformat": 4,
 "nbformat_minor": 2
}
